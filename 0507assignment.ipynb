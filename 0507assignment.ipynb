{
 "cells": [
  {
   "cell_type": "code",
   "execution_count": null,
   "metadata": {},
   "outputs": [],
   "source": [
    "import numpy as np"
   ]
  },
  {
   "cell_type": "code",
   "execution_count": null,
   "metadata": {},
   "outputs": [],
   "source": [
    "# 1. 1차원 numpy 배열을 만들어 결과와 같이 출력하기\n",
    "#[ 0, 2, 4, 6, 8, 10, 12, 14, 16, 18, 20, 22, 24, 26, 28]\n",
    "\n",
    "arr = np.arange(0,29,2)\n",
    "arr"
   ]
  },
  {
   "cell_type": "code",
   "execution_count": null,
   "metadata": {},
   "outputs": [],
   "source": [
    "# 2. 2차원 numpy 배열을 만들어 결과와 같이 출력하기\n",
    "# [[10, 20, 30, 40],\n",
    "# 50, 60, 70, 80]]\n",
    "\n",
    "np.arange(10,81,10).reshape(2,4)"
   ]
  },
  {
   "cell_type": "code",
   "execution_count": null,
   "metadata": {},
   "outputs": [],
   "source": [
    "# 3. 3차원 numpy 배열을 만들어 결과와 같이 출력하기\n",
    "# [[[ 1, 2, 3],\n",
    "# [ 4, 5, 6]],\n",
    "# [[ 7, 8, 9],\n",
    "# [10, 11, 12]],\n",
    "# [[13, 14, 15],\n",
    "# [16, 17, 18]],\n",
    "# [[19, 20, 21],\n",
    "# [22, 23, 24]]]\n",
    "\n",
    "np.arange(1,25).reshape(2,4,3)"
   ]
  },
  {
   "cell_type": "code",
   "execution_count": null,
   "metadata": {},
   "outputs": [],
   "source": [
    "# 4. 아래와 같은 행렬을 이용하여 조건에 맞는 코드 작성\n",
    "# vector = np.array(range(0, 30, 2))\n",
    "\n",
    "# 값 24 인덱싱\n",
    "# 값 6 인덱싱\n",
    "\n",
    "vector = np.array(range(0, 30, 2))\n",
    "vector[-3]\n",
    "vector[3]"
   ]
  },
  {
   "cell_type": "code",
   "execution_count": null,
   "metadata": {},
   "outputs": [],
   "source": [
    "# 5. 아래와 같은 행렬을 이용하여 조건에 맞는 코드 작성\n",
    "matrix = np.array([\n",
    "[1, 2, 3, 4],\n",
    "[5, 6, 7, 8],\n",
    "[9, 10, 11, 12],\n",
    "[13, 14, 15, 16]\n",
    "])\n",
    "\n",
    "# 1)- 값 8 인덱싱\n",
    "matrix[1,-1]\n",
    "\n",
    "# 2)- 값 2 인덱싱\n",
    "matrix[0,1]\n",
    "\n",
    "# 3)- 값 9 인덱싱\n",
    "matrix[2,0]\n",
    "\n",
    "# 4)- 값 15 인덱싱\n",
    "matrix[-1,-2]"
   ]
  },
  {
   "cell_type": "code",
   "execution_count": null,
   "metadata": {},
   "outputs": [],
   "source": [
    "# 6. 아래와 같은 행렬을 작성해보세요\n",
    "# [-1, -2, -3, -4, -5]\n",
    "\n",
    "np.arange(-1,-6,-1)"
   ]
  },
  {
   "cell_type": "code",
   "execution_count": null,
   "metadata": {},
   "outputs": [],
   "source": [
    "# 7.다음 행렬과 같은 배열이 있다.\n",
    "\n",
    "x = np.array([1, 2, 3, 4, 5, 6, 7, 8, 9, 10,\n",
    "              11, 12, 13, 14, 15, 16, 17, 18, 19, 20])\n",
    "\n",
    "# 1)이 배열에서 3의 배수를 찾아라.\n",
    "print(x[x % 3 == 0])\n",
    "\n",
    "# 2)이 배열에서 4로 나누면 1이 남는 수를 찾아라.\n",
    "print(x[x % 4 == 1])\n",
    "\n",
    "# 3)이 배열에서 3으로 나누면 나누어지고 4로 나누면 1이 남는 수를 찾아라.\n",
    "print(x[(x % 3 == 0) & (x % 4 == 1)])"
   ]
  },
  {
   "cell_type": "code",
   "execution_count": null,
   "metadata": {},
   "outputs": [],
   "source": [
    "# 8. 다음 배열을 만들고 슬라이싱, 인덱싱 연습하세요\n",
    "arr2d = np.array([[1, 2, 3], [4, 5, 6], [7, 8, 9]])\n",
    "arr2d\n",
    "\n",
    "# 1) 특정 원소에 접근\n",
    "print(arr2d[1,1]) # arr2d[행 인덱스, 열 인덱스]\n",
    "# 5\n",
    "\n",
    "# 2) 특정 행에 접근\n",
    "print(arr2d[0]) # arr2d[행 인덱스]\n",
    "# [1 2 3]\n",
    "\n",
    "# 3) 특정 열에 접근\n",
    "print(arr2d[:,2]) # arr2d[:, 열 인덱스]\n",
    "# [3 6 9]\n",
    "\n",
    "#4) 부분 배열(슬라이스) 생성\n",
    "print(arr2d[:2, 1:]) # arr2d[시작 행:끝 행, 시작 열:끝 열]\n",
    "#[[2 3]\n",
    "#[5 6]]\n",
    "\n",
    "# 5) 특정 행 범위에 접근\n",
    "print(arr2d[0:2]) # arr2d[시작 행:끝 행]\n",
    "# [[1 2 3]\n",
    "# [4 5 6]]\n",
    "\n",
    "# 6 특정 열 범위에 접근\n",
    "print(arr2d[:,0:2])  # arr2d[:, 시작 열:끝 열]\n",
    "# [[1 2]\n",
    "#  [4 5]\n",
    "#  [7 8]]\n",
    "\n",
    "# 7) 마지막 열에 접근\n",
    "print(arr2d[:,-1]) # arr2d[:, 음수 인덱스]\n",
    "#[3 6 9]\n",
    "\n",
    "# 8) 부분 배열에 새로운 값을 할당\n",
    "arr2d[:2, 1:] =0 # arr2d[시작 행:끝 행, 시작 열:끝 열]\n",
    "print(arr2d)\n",
    "# [[1 0 0]\n",
    "#  [4 0 0]\n",
    "#  [7 8 9]]"
   ]
  }
 ],
 "metadata": {
  "language_info": {
   "name": "python"
  }
 },
 "nbformat": 4,
 "nbformat_minor": 2
}
