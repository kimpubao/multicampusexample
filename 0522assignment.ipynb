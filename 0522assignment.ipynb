{
 "cells": [
  {
   "cell_type": "code",
   "execution_count": null,
   "id": "49ac1aa2",
   "metadata": {},
   "outputs": [],
   "source": [
    "import pandas as pd\n",
    "import numpy as np"
   ]
  },
  {
   "cell_type": "code",
   "execution_count": null,
   "id": "f0da56a6",
   "metadata": {},
   "outputs": [],
   "source": [
    "# 001.\n",
    "# (1) 임의로 두 개의 시리즈 객체를 만든다. 모두 문자열 인덱스를 가져야 하며 두 시리즈에 공통적으로 포함되지 않는 라벨이 있어야 한다.\n",
    "\n",
    "# (2) 위에서 만든 두 시리즈 객체를 이용하여 사칙 연산을 한다.\n"
   ]
  },
  {
   "cell_type": "code",
   "execution_count": null,
   "id": "fa58caaf",
   "metadata": {},
   "outputs": [],
   "source": [
    "# (1) 임의로 두 개의 시리즈 객체를 만든다. 모두 문자열 인덱스를 가져야 하며 두 시리즈에 공통적으로 포함되지 않는 라벨이 있어야 한다.\n",
    "s1 = pd.Series([10,20,30,40],index = ['a','b','c','d'])\n",
    "s2 = pd.Series([5,15,25,35], index = ['c','a','b','d'])\n",
    "\n",
    "# (2) 위에서 만든 두 시리즈 객체를 이용하여 사칙 연산을 한다.\n",
    "add=s1 + s2\n",
    "sub = s1 - s2\n",
    "multi = s1 * s2\n",
    "divis = s1 / s2\n",
    "\n",
    "print(add)\n",
    "print(sub)\n",
    "print(multi)\n",
    "print(divis)"
   ]
  },
  {
   "cell_type": "code",
   "execution_count": null,
   "id": "e71cb777",
   "metadata": {},
   "outputs": [],
   "source": [
    "# 002. 다음 조건을 만족하는 임의의 데이터프레임을 하나 만든다.\n",
    "# (1) 열의 갯수와 행의 갯수가 각각 5개 이상이어야 한다.\n",
    "\n",
    "# (2) 열에는 정수, 문자열, 실수 자료형 데이터가 각각 1개 이상씩 포함되어 있어야 한다."
   ]
  },
  {
   "cell_type": "code",
   "execution_count": null,
   "id": "f10de856",
   "metadata": {},
   "outputs": [],
   "source": [
    "# 데이터프레임 생성\n",
    "data = {\n",
    "    'integer': [1, 2, 3, 4, 5],\n",
    "    'string': ['a', 'b', 'c', 'd', 'e'],\n",
    "    'float': [1.1, 2.2, 3.3, 4.4, 5.5],\n",
    "    'boolean': [True, False, True, False, True],\n",
    "    'datetime': pd.date_range(start='2024-05-22', periods=5, freq='D')\n",
    "}\n",
    "\n",
    "df = pd.DataFrame(data)\n",
    "\n",
    "print(df)"
   ]
  },
  {
   "cell_type": "code",
   "execution_count": null,
   "id": "9823bec1",
   "metadata": {},
   "outputs": [],
   "source": [
    "# 003. 다음 데이터프레임에서 지정하는 데이터를 뽑아내거나 처리하라.\n",
    "\n",
    "data = {\n",
    "    \"국어\": [80, 90, 70, 30],\n",
    "    \"영어\": [90, 70, 60, 40],\n",
    "    \"수학\": [90, 60, 80, 70],\n",
    "}\n",
    "columns = [\"국어\", \"영어\", \"수학\"]\n",
    "index = [\"춘향\", \"몽룡\", \"향단\", \"방자\"]\n",
    "df = pd.DataFrame(data, index=index, columns=columns)\n",
    "# (1) 모든 학생의 수학 점수를 시리즈로 나타낸다.\n",
    "\n",
    "# (2) 모든 학생의 국어와 영어 점수를 데이터 프레임으로 나타낸다.\n",
    "\n",
    "# (3) 모든 학생의 각 과목 평균 점수를 새로운 열로 추가한다.\n",
    "\n",
    "# (4) 방자의 영어 점수를 80점으로 수정하고 평균 점수도 다시 계산한다.\n",
    "\n",
    "# (5) 춘향의 점수를 데이터프레임으로 나타낸다.\n",
    "\n",
    "# (6) 향단의 점수를 시리즈로 나타낸다."
   ]
  },
  {
   "cell_type": "code",
   "execution_count": null,
   "id": "62625158",
   "metadata": {},
   "outputs": [],
   "source": [
    "# (1) 모든 학생의 수학 점수를 시리즈로 나타낸다.\n",
    "math = df['수학']\n",
    "print('\\n수학점수')\n",
    "print(math)\n",
    "\n",
    "# (2) 모든 학생의 국어와 영어 점수를 데이터 프레임으로 나타낸다.\n",
    "language = df[['국어','영어']]\n",
    "print('\\n언어 점수')\n",
    "print(language)\n",
    "\n",
    "# (3) 모든 학생의 각 과목 평균 점수를 새로운 열로 추가한다.\n",
    "df['평균'] = df.mean(axis = 1)\n",
    "print('\\n평균 점수 추가')\n",
    "print(df)\n",
    "# (4) 방자의 영어 점수를 80점으로 수정하고 평균 점수도 다시 계산한다.\n",
    "# 직접 할당\n",
    "df['영어']['방자'] = 80\n",
    "df['평균'] = df.mean(axis=1)\n",
    "print('\\n방자의 영어 점수 수정 후 다시 계산')\n",
    "print(df)\n",
    "\n",
    "# loc 사용\n",
    "df.loc['방자','영어'] = 80\n",
    "df['평균'] = df.mean(axis = 1)\n",
    "print('\\n방자의 영어 점수 수정 후 다시 계산')\n",
    "print(df)\n",
    "\n",
    "# (5) 춘향의 점수를 데이터프레임으로 나타낸다.\n",
    "ch = df.loc[['춘향']]\n",
    "print('\\n춘향 과목별 및 평균 점수')\n",
    "print(ch)\n",
    "\n",
    "# (6) 향단의 점수를 시리즈로 나타낸다.\n",
    "hd = df.loc['향단']\n",
    "print('\\n향단 점수(series.ver)')\n",
    "print(hd)"
   ]
  }
 ],
 "metadata": {
  "language_info": {
   "name": "python"
  }
 },
 "nbformat": 4,
 "nbformat_minor": 5
}
