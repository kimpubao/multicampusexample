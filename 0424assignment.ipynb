{
 "cells": [
  {
   "cell_type": "code",
   "execution_count": null,
   "metadata": {},
   "outputs": [],
   "source": [
    "# 001 \n",
    "'''\n",
    "다음과 같은 행렬에서 3*3 영역으로 나누어 요소들을 모두 곱했을때\n",
    "최대값이 얼마인가? (영역 이동은 우측으로 1칸, 아래쪽으로 1줄씩 이동)\n",
    "3 1 2 -3 1\n",
    "-2 0 3 5 7\n",
    "2 7 8 1 3\n",
    "0 2 -1 9 3\n",
    "7 1 8 -6 4\n",
    "'''\n"
   ]
  },
  {
   "cell_type": "markdown",
   "metadata": {},
   "source": []
  },
  {
   "cell_type": "code",
   "execution_count": null,
   "metadata": {},
   "outputs": [],
   "source": [
    "text = \"\"\"\n",
    "3 1 2 -3 1\n",
    "-2 0 3 5 7\n",
    "2 7 8 1 3\n",
    "0 2 -1 9 3\n",
    "7 1 8 -6 4\n",
    "\"\"\"\n",
    "matrix = [list(map(int,row.split())) for row in text.split('\\n')]\n",
    "\n",
    "max_product = 0\n",
    "rows = len(matrix)\n",
    "cols = len(matrix[0])\n",
    "\n",
    "#각 3*3 영역 순회\n",
    "for i in range(rows - 2):\n",
    "    for j in range(cols - 2):\n",
    "        # 현재 3x3 영역의 곱 계산\n",
    "        product = matrix[i][j] * matrix[i][j+1] * matrix[i][j+2] * \\\n",
    "                  matrix[i+1][j] * matrix[i+1][j+1] * matrix[i+1][j+2] * \\\n",
    "                  matrix[i+2][j] * matrix[i+2][j+1] * matrix[i+2][j+2]\n",
    "\n",
    "        #최대값 갱신\n",
    "        if product > max_product:\n",
    "            max_product = product\n",
    "\n",
    "print(\"최대 곱 : \", max_product)"
   ]
  },
  {
   "cell_type": "markdown",
   "metadata": {},
   "source": []
  }
 ],
 "metadata": {
  "language_info": {
   "name": "python"
  }
 },
 "nbformat": 4,
 "nbformat_minor": 2
}
