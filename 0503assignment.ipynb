{
 "cells": [
  {
   "cell_type": "code",
   "execution_count": null,
   "metadata": {},
   "outputs": [],
   "source": [
    "import numpy as np"
   ]
  },
  {
   "cell_type": "code",
   "execution_count": null,
   "metadata": {},
   "outputs": [],
   "source": [
    "# 001 넘파이를 사용하여 다음과 같은 행렬을 만든다.\n",
    "#10 20 30 40\n",
    "#50 60 70 80\n",
    "\n",
    "arr=np.array(list(range(0,15))).reshape(3,5)\n",
    "arr"
   ]
  },
  {
   "cell_type": "code",
   "execution_count": null,
   "metadata": {},
   "outputs": [],
   "source": [
    "# 002 다음 행렬과 같은 행렬이 있다.\n",
    "arr = np.array([[ 0,  1,  2,  3,  4],\n",
    "           [ 5,  6,  7,  8,  9],\n",
    "           [10, 11, 12, 13, 14]])\n",
    "#이 행렬에서 값 7 을 인덱싱한다.\n",
    "arr[1,2]\n",
    "#이 행렬에서 값 14 을 인덱싱한다.\n",
    "arr[-1,-1]\n",
    "#이 행렬에서 배열 [6, 7] 을 슬라이싱한다.\n",
    "arr[1,1:3]\n",
    "#이 행렬에서 배열 [7, 12] 을 슬라이싱한다.\n",
    "arr[1: ,2]\n",
    "#이 행렬에서 배열 [[3, 4], [8, 9]] 을 슬라이싱한다.\n",
    "arr[:2,3:]"
   ]
  },
  {
   "cell_type": "code",
   "execution_count": null,
   "metadata": {},
   "outputs": [],
   "source": [
    "# 003. 값이 10에서 49를 원소로 가지고 있는 벡터 만들기\n",
    "arr = np.arange(10,50)\n",
    "arr\n",
    "# 004. 3번 배열의 원소를 뒤집어 출력\n",
    "arr[::-1]"
   ]
  },
  {
   "cell_type": "code",
   "execution_count": null,
   "metadata": {},
   "outputs": [],
   "source": [
    "#005삼성전자 주가 데이터 다운로드\n",
    "# -날짜 열 제거\n",
    "# -시가, 종가, 고가, 저가, 거래량을 각각 추출\n",
    "# -2024년 5월 1일~ 5월 3일까지 데이터만 추출\n",
    "samsung_arr =np.loadtxt(\"samsung_pre.csv\", skiprows=1, dtype=np.float32, delimiter=\",\")\n",
    "\n",
    "#시가\n",
    "samsung_arr[-2,0]\n",
    "#종가\n",
    "samsung_arr[-2,3]\n",
    "#고가\n",
    "samsung_arr[-2,1]\n",
    "#저가\n",
    "samsung_arr[-2,2]\n",
    "#거래량\n",
    "samsung_arr[-2,-1]\n",
    "#2024년 5월 1일~ 5월 3일까지 데이터만 추출\n",
    "samsung_arr[-3:,:]"
   ]
  },
  {
   "cell_type": "code",
   "execution_count": null,
   "metadata": {},
   "outputs": [],
   "source": []
  },
  {
   "cell_type": "code",
   "execution_count": null,
   "metadata": {},
   "outputs": [],
   "source": []
  }
 ],
 "metadata": {
  "language_info": {
   "name": "python"
  }
 },
 "nbformat": 4,
 "nbformat_minor": 2
}
