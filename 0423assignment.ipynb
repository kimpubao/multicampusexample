{
 "cells": [
  {
   "cell_type": "code",
   "execution_count": null,
   "metadata": {},
   "outputs": [],
   "source": [
    "# flatten 함수로 평탄화(덤프) 작업\n",
    "\n",
    "data = [5,8,3,1,5,6,9,9,2,2,4]\n",
    "dump = 5\n",
    "for i in range(dump):\n",
    "    high_data = max(data)\n",
    "    low_data = min(data)\n",
    "    data[data.index(low_data)] = low_data+1\n",
    "    data[data.index(high_data)] = high_data-1\n",
    "print(data)\n",
    "print('높이 차이:',max(data)-min(data))"
   ]
  },
  {
   "cell_type": "code",
   "execution_count": null,
   "metadata": {},
   "outputs": [],
   "source": [
    "for test_case in range(1, 11):\n",
    "    N = int(input())\n",
    "    building_list = list(map(int, input().split()))\n",
    "    count = 0\n",
    "    # 5개의 중 가운데가 가장 큰 경우를 뽑아 가장 큰 값과 차순위의 차를 더해감\n",
    "    for i in range(2, N-2):\n",
    "        arr = building_list[i-2:i+3]\n",
    "        if arr[2] == max(arr):\n",
    "            count += arr[2] - max(arr[:2] + arr[3:])\n",
    "         \n",
    "    print(f'#{test_case} {count}')\n",
    "    "
   ]
  },
  {
   "cell_type": "code",
   "execution_count": null,
   "metadata": {},
   "outputs": [],
   "source": [
    "#선택정렬\n",
    "lst = [64, 25, 10, 22, 11]\n",
    "\n",
    "for i in range(len(lst)-1): #기준위치, i=0 to 3\n",
    "    min_value=lst[i] #64\n",
    "    for j in range(i, len(lst)): #최소값 검색 범위\n",
    "        if min_value > lst[j]:\n",
    "            min_value=lst[j] #최소값\n",
    "            min_idx=j #최소값의 위치\n",
    "    if(lst[i]>min_value):\n",
    "        lst[i],lst[min_idx]=lst[min_idx],lst[i]\n",
    "\n",
    "print(lst)"
   ]
  },
  {
   "cell_type": "code",
   "execution_count": null,
   "metadata": {},
   "outputs": [],
   "source": [
    "matrix = [\n",
    "    [4, 4, 3, 2, 1],\n",
    "    [2, 2, 1, 6, 5],\n",
    "    [3, 5, 4, 6, 7],\n",
    "    [4, 2, 5, 9, 7],\n",
    "    [8, 1, 9, 5, 6]\n",
    "]\n",
    "\n",
    "max_row_sum = max(sum(row) for row in matrox)\n",
    "\n",
    "max_column_sum = max(sum(column) for column in zip(*matrix))\n",
    "\n",
    "n = len(matrix)\n",
    "main_diag_sum = sum(matrix[i][i] for i in range(n))  # 주 대각선 합\n",
    "anti_diag_sum = sum(matrix[i][n-i-1] for i in range(n))  # 부 대각선 합\n",
    "max_diag_sum = max(main_diag_sum, anti_diag_sum)  # 대각선 중 최대값\n",
    "\n",
    "# 최대값 계산\n",
    "max_sum = max(max_row_sum, max_column_sum, max_diag_sum)\n",
    "\n",
    "print(\"최대값:\", max_sum)\n"
   ]
  },
  {
   "cell_type": "code",
   "execution_count": null,
   "metadata": {},
   "outputs": [],
   "source": [
    "with open(\"sum_arr.txt\", \"r\") as file:\n",
    "    lines = file.readlines()\n",
    "\n",
    "# 각 줄을 공백을 기준으로 분리하여 정수형으로 변환하여 2차원 배열로 만듦\n",
    "matrix = [[int(num) for num in line.strip().split()] for line in lines]\n",
    "\n",
    "\n",
    "max_row_sum = max(sum(row) for row in matrox)\n",
    "\n",
    "max_column_sum = max(sum(column) for column in zip(*matrix))\n",
    "\n",
    "n = len(matrix)\n",
    "main_diag_sum = sum(matrix[i][i] for i in range(n))  # 주 대각선 합\n",
    "anti_diag_sum = sum(matrix[i][n-i-1] for i in range(n))  # 부 대각선 합\n",
    "max_diag_sum = max(main_diag_sum, anti_diag_sum)  # 대각선 중 최대값\n",
    "\n",
    "# 최대값 계산\n",
    "max_sum = max(max_row_sum, max_column_sum, max_diag_sum)\n",
    "\n",
    "print(\"최대값:\", max_sum)\n"
   ]
  }
 ],
 "metadata": {
  "language_info": {
   "name": "python"
  }
 },
 "nbformat": 4,
 "nbformat_minor": 2
}
