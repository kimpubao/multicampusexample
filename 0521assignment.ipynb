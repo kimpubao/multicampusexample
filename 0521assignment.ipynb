{
 "cells": [
  {
   "cell_type": "code",
   "execution_count": null,
   "metadata": {},
   "outputs": [],
   "source": [
    "# 001. 동전을 20번 던져 앞면(숫자 1)과 뒷면(숫자 0)이 나오는 실험을 파이썬으로 작성하여 출력해보자(numpy)\n",
    "import numpy as np\n",
    "n = 20\n",
    "result = np.random.randint(2, size = n)\n",
    "print(\"동전 20회 던진 결과 : \", result)"
   ]
  },
  {
   "cell_type": "code",
   "execution_count": null,
   "metadata": {},
   "outputs": [],
   "source": [
    "# 002. 주사위를 10000번 던져서 나오는 숫자의 평균을 구하라.(numpy)\n",
    "import numpy as np\n",
    "x = 10000\n",
    "\n",
    "# 주사위를 10000번 던지기\n",
    "results = np.random.randint(1,7,size = x)\n",
    "\n",
    "# 결과의 평균 구하기\n",
    "average = np.mean(results)\n",
    "\n",
    "print('주사위를 10000번 던진 결과의 결과 : ', average)"
   ]
  },
  {
   "cell_type": "code",
   "execution_count": null,
   "metadata": {},
   "outputs": [],
   "source": [
    "# 003. 난수로 이루어진 4 x 5 형태의 데이터 행렬을 만들고 이 데이터에 대해 다음과 같은 값을 구한다.(numpy)\n",
    "import numpy as np\n",
    "data = [np.random.standard_normal() for i in range(20)]\n",
    "# 4*5 형태의 행렬 생성\n",
    "matrix = np.array(data).reshape(4,5)\n",
    "\n",
    "# 전체의 최댓값\n",
    "max_value = np.max(matrix)\n",
    "print(\"\\n최댓값 : \", max_value)\n",
    "\n",
    "# 각 행의 합\n",
    "row_sum = np.sum(matrix,axis=1)\n",
    "print(\"\\n각 행의 합 : \",row_sum)\n",
    "\n",
    "# 각 행의 최댓값\n",
    "row_max = np.max(matrix, axis = 1)\n",
    "print(\"\\n각 행의 최댓값 : \",row_max)\n",
    "\n",
    "# 각 열의 평균\n",
    "col_mean = np.mean(matrix,axis = 0)\n",
    "print(\"\\n각 열의 평균 : \", col_mean)\n",
    "# 각 열의 최솟값\n",
    "col_mins = np.min(matrix, axis = 0)\n",
    "print(\"\\n각 열의 최솟값\", col_mins)"
   ]
  },
  {
   "cell_type": "code",
   "execution_count": null,
   "metadata": {},
   "outputs": [],
   "source": [
    "# 004.  다음 데이터를 시리즈 구조로 정의하고 '광주' 도시의 인구를 참조하시오\n",
    "# 서울-1000, 부산-300, 인천-200, 광주-100\n",
    "import pandas as pd\n",
    "data = pd.Series([1000,300,200,100], index = ['서울', '부산','인천','광주'])\n",
    "\n",
    "data\n",
    "\n",
    "data['광주']"
   ]
  },
  {
   "cell_type": "code",
   "execution_count": null,
   "metadata": {},
   "outputs": [],
   "source": [
    "# 005. 다음의 Series를 생성하고 sample 변수에 대입하고 출력하세요\n",
    "# [출력]\n",
    "# 가    10\n",
    "# 나    20\n",
    "# 다    30\n",
    "# 라    40\n",
    "# 마    50\n",
    "# dtype: int64\n",
    "import pandas as pd\n",
    "sample = pd.Series(np.arange(10,51,10), index = ['가','나','다','라','마'],dtype = 'int64')\n",
    "sample"
   ]
  },
  {
   "cell_type": "code",
   "execution_count": null,
   "metadata": {},
   "outputs": [],
   "source": [
    "# 006. sample중 '나'와 '라' 데이터를 조회하세요\n",
    "sample[['나','라']]\n",
    "sample.iloc[[1,3]]\n"
   ]
  },
  {
   "cell_type": "code",
   "execution_count": null,
   "metadata": {},
   "outputs": [],
   "source": [
    "# 007. sample2 중 160 이하인 데이터만 필터하세요\n",
    "\n",
    "# *기본 코드*\n",
    "np.random.seed(20)\n",
    "sample2 = pd.Series(np.random.randint(100, 200, size=(15,)))\n",
    "sample2[sample2 <= 160]"
   ]
  },
  {
   "cell_type": "code",
   "execution_count": null,
   "metadata": {},
   "outputs": [],
   "source": [
    "# 008. sample2 중 130 이상 170 이하인 데이터만 필터하세요\n",
    "# *기본 코드*\n",
    "\n",
    "np.random.seed(20)\n",
    "sample2 = pd.Series(np.random.randint(100, 200, size=(15,)))\n",
    "sample2[(sample2 >=130) & (sample2 <= 170)]"
   ]
  },
  {
   "cell_type": "code",
   "execution_count": null,
   "metadata": {},
   "outputs": [],
   "source": [
    "# 009.다음과 같은 Series를 생성해 주세요\n",
    "# [출력]\n",
    "# 가     apple\n",
    "# 나       NaN\n",
    "# 다    banana\n",
    "# 라      kiwi\n",
    "# 마    gubong\n",
    "# dtype: object\n",
    "pd.Series(['apple','NaN','banana','kiwi','gubong'], index=['가','나','다','라','마'])"
   ]
  },
  {
   "cell_type": "code",
   "execution_count": null,
   "metadata": {},
   "outputs": [],
   "source": [
    "# 0010. \n",
    "# - 숫자로 이루어진 리스트에서 사용자가 입력한 숫자를 검색하는 모듈을 다음 요건에 따라 만들어 보자\n",
    "# - 검색 모듈은 선형 검색 알고리즘을 이용하자\n",
    "# - 리스트는 1부터 20까지의 정수 중에서 난수 10개를 이용한다.\n",
    "# -검색에 성공하면 해당 정수의 인덱스를 출력하고, 검색 결과가 없다면 -1을 출력하자\n",
    "\n",
    "n = int(input(\"숫자 입력 : \"))\n",
    "\n",
    "li = np.random.randint(10,21,10)\n",
    "\n",
    "if n in li:\n",
    "    print(n)\n",
    "else:\n",
    "    print('-1')"
   ]
  },
  {
   "cell_type": "code",
   "execution_count": null,
   "metadata": {},
   "outputs": [],
   "source": [
    "#10 지승환 풀이\n",
    "num = int(input(\"숫자: \"))\n",
    "\n",
    "li = list(np.random.randint(1, 20, size=10))\n",
    "\n",
    "sample = pd.Series(li)\n",
    "\n",
    "sample[sample == num] if num in sample.values else -1"
   ]
  },
  {
   "cell_type": "code",
   "execution_count": null,
   "metadata": {},
   "outputs": [],
   "source": [
    "#10번 추희정 풀이\n",
    "def func(num):\n",
    "    li=[np.random.randint(1,21) for i in range(10)]\n",
    "    print(li)\n",
    "    for i,v in enumerate(li):\n",
    "        if v==num:\n",
    "            return i\n",
    "    return -1\n",
    "\n",
    "func(5)"
   ]
  },
  {
   "cell_type": "code",
   "execution_count": null,
   "metadata": {},
   "outputs": [],
   "source": [
    "# 10번 최동현 풀이\n",
    "def func(num):\n",
    "    li=[np.random.randint(1,21) for i in range(10)]\n",
    "    print(li)\n",
    "    for i,v in enumerate(li):\n",
    "        if v==num:\n",
    "            return i\n",
    "    return -1\n",
    "\n",
    "func(5)"
   ]
  }
 ],
 "metadata": {
  "language_info": {
   "name": "python"
  }
 },
 "nbformat": 4,
 "nbformat_minor": 2
}
